{
 "cells": [
  {
   "cell_type": "code",
   "execution_count": 1,
   "id": "fancy-expansion",
   "metadata": {},
   "outputs": [],
   "source": [
    "import pandas as pd\n",
    "import numpy as np\n",
    "import os"
   ]
  },
  {
   "cell_type": "code",
   "execution_count": 2,
   "id": "indoor-recommendation",
   "metadata": {},
   "outputs": [],
   "source": [
    "# loading training and testing data\n",
    "data = pd.read_csv('../people_train.csv') # training data\n",
    "test_data = pd.read_csv('../people_test.csv')# testing data"
   ]
  },
  {
   "cell_type": "code",
   "execution_count": 3,
   "id": "funky-crash",
   "metadata": {},
   "outputs": [],
   "source": [
    "training_char = data.Character.unique()\n",
    "testing_char = test_data.Character.unique()\n",
    "illegal_chars = []\n",
    "\n",
    "for char in testing_char:\n",
    "    if char not in training_char:\n",
    "        illegal_chars.append(char)\n",
    "        \n",
    "test_data = test_data[~ test_data.Character.isin(illegal_chars)]"
   ]
  },
  {
   "cell_type": "code",
   "execution_count": 4,
   "id": "clinical-conversion",
   "metadata": {},
   "outputs": [],
   "source": [
    "# loading radical dictionary (will use chise in the future)\n",
    "df_radicals = pd.read_csv('../chise_radical.csv')                            \n",
    "characters = df_radicals['character'].values\n",
    "radicals = df_radicals['radical_info'].values\n",
    "char_rad_dict = {}\n",
    "for i in range (len(characters)):\n",
    "    exec('char_rad_dict[characters[i]] =' +  radicals[i])"
   ]
  },
  {
   "cell_type": "code",
   "execution_count": 5,
   "id": "related-mumbai",
   "metadata": {},
   "outputs": [
    {
     "data": {
      "text/plain": [
       "824"
      ]
     },
     "execution_count": 5,
     "metadata": {},
     "output_type": "execute_result"
    }
   ],
   "source": [
    "# get all radicals\n",
    "radical_set = set()\n",
    "for char in data.Character.unique():\n",
    "    try:\n",
    "        radical_set = set(list(radical_set) + char_rad_dict[char])\n",
    "    except:\n",
    "        pass\n",
    "n_radical = len(radical_set)\n",
    "n_radical"
   ]
  },
  {
   "cell_type": "code",
   "execution_count": 6,
   "id": "sharing-developer",
   "metadata": {},
   "outputs": [
    {
     "data": {
      "text/plain": [
       "4312"
      ]
     },
     "execution_count": 6,
     "metadata": {},
     "output_type": "execute_result"
    }
   ],
   "source": [
    "# get all characters (in training data)\n",
    "chars = list(set(data[\"Character\"].values))\n",
    "n_chars = len(chars)\n",
    "n_chars"
   ]
  },
  {
   "cell_type": "code",
   "execution_count": 7,
   "id": "pressed-delhi",
   "metadata": {},
   "outputs": [
    {
     "data": {
      "text/plain": [
       "7"
      ]
     },
     "execution_count": 7,
     "metadata": {},
     "output_type": "execute_result"
    }
   ],
   "source": [
    "tags = list(set(data[\"Tag\"].values))\n",
    "n_tags = len(tags)\n",
    "n_tags"
   ]
  },
  {
   "cell_type": "code",
   "execution_count": 8,
   "id": "least-settlement",
   "metadata": {},
   "outputs": [],
   "source": [
    "# character token\n",
    "char2idx = {c: i + 1 for i, c in enumerate(chars)}\n",
    "char2idx[\"PAD\"] = 0\n",
    "idx2char = {i: c for c, i in char2idx.items()}\n",
    "# radical token...\n",
    "# whole_radical_set\n",
    "radical2idx = {r : i + 2 for i, r in enumerate(radical_set)}\n",
    "radical2idx[\"PAD\"] = 0\n",
    "radical2idx['UNK'] = 1\n",
    "idx2radical = {i : r for r, i in radical2idx.items()}\n",
    "# tag token\n",
    "tag2idx = {t: i + 1 for i, t in enumerate(tags)}\n",
    "tag2idx[\"PAD\"] = 0\n",
    "idx2tag = {i: w for w, i in tag2idx.items()}"
   ]
  },
  {
   "cell_type": "code",
   "execution_count": 9,
   "id": "brown-petite",
   "metadata": {},
   "outputs": [
    {
     "data": {
      "text/plain": [
       "4313"
      ]
     },
     "execution_count": 9,
     "metadata": {},
     "output_type": "execute_result"
    }
   ],
   "source": [
    "len(char2idx.keys())"
   ]
  },
  {
   "cell_type": "code",
   "execution_count": 10,
   "id": "relative-conversion",
   "metadata": {},
   "outputs": [],
   "source": [
    "char_token = pd.DataFrame(data = {'token': char2idx.values(), 'char': char2idx.keys()})\n",
    "char_token.to_csv('people_char_token.csv')"
   ]
  },
  {
   "cell_type": "code",
   "execution_count": 11,
   "id": "hearing-acquisition",
   "metadata": {},
   "outputs": [],
   "source": [
    "radical_token = pd.DataFrame(data = {'token': radical2idx.values(), 'radical': radical2idx.keys()})\n",
    "radical_token.to_csv('people_radical_token.csv')"
   ]
  },
  {
   "cell_type": "code",
   "execution_count": 12,
   "id": "domestic-fraud",
   "metadata": {},
   "outputs": [],
   "source": [
    "tag_token = pd.DataFrame(data = {'token': tag2idx.values(), 'tag': tag2idx.keys()})\n",
    "tag_token.to_csv('people_tag_token.csv')"
   ]
  }
 ],
 "metadata": {
  "environment": {
   "name": "tf2-gpu.2-4.mnightly-2021-02-12-debian-10-test",
   "type": "gcloud",
   "uri": "gcr.io/deeplearning-platform-release/tf2-gpu.2-4:mnightly-2021-02-12-debian-10-test"
  },
  "kernelspec": {
   "display_name": "Python 3",
   "language": "python",
   "name": "python3"
  },
  "language_info": {
   "codemirror_mode": {
    "name": "ipython",
    "version": 3
   },
   "file_extension": ".py",
   "mimetype": "text/x-python",
   "name": "python",
   "nbconvert_exporter": "python",
   "pygments_lexer": "ipython3",
   "version": "3.7.9"
  }
 },
 "nbformat": 4,
 "nbformat_minor": 5
}
