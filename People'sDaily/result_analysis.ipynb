{
 "cells": [
  {
   "cell_type": "code",
   "execution_count": 2,
   "metadata": {},
   "outputs": [],
   "source": [
    "import pandas as pd"
   ]
  },
  {
   "cell_type": "code",
   "execution_count": 3,
   "metadata": {},
   "outputs": [],
   "source": [
    "scheme_1_300_100 = pd.read_csv('./Scheme_1_300_100/people_scheme_1_result.csv')\n",
    "scheme_1_300_200 = pd.read_csv('./Scheme_1_300_200/people_scheme_1_result.csv')\n",
    "scheme_1_300_300 = pd.read_csv('./Scheme_1_300_300/people_scheme_1_result.csv')\n",
    "\n",
    "scheme_2_300_100 = pd.read_csv('./Scheme_2_300_100/people_scheme_2_result.csv')\n",
    "scheme_2_300_200 = pd.read_csv('./Scheme_2_300_200/people_scheme_2_result.csv')\n",
    "scheme_2_300_300 = pd.read_csv('./Scheme_2_300_300/people_scheme_2_result.csv')\n",
    "\n",
    "scheme_3_100_0 = pd.read_csv('./Scheme_3_100_0/people_scheme_3_result.csv')\n",
    "scheme_3_125_0 = pd.read_csv('./Scheme_3_125_0/people_scheme_3_result.csv')\n",
    "scheme_3_150_0 = pd.read_csv('./Scheme_3_150_0/people_scheme_3_result.csv')\n",
    "scheme_3_200_0 = pd.read_csv('./Scheme_3_200_0/people_scheme_3_result.csv')\n",
    "scheme_3_300_0 = pd.read_csv('./Scheme_3_300_0/people_scheme_3_result.csv')"
   ]
  },
  {
   "cell_type": "code",
   "execution_count": 4,
   "metadata": {},
   "outputs": [],
   "source": [
    "def optimal_F1(model_result):\n",
    "    \n",
    "    return model_result.F1.max()"
   ]
  },
  {
   "cell_type": "code",
   "execution_count": 5,
   "metadata": {
    "scrolled": true
   },
   "outputs": [
    {
     "data": {
      "text/plain": [
       "0.8803354182418036"
      ]
     },
     "execution_count": 5,
     "metadata": {},
     "output_type": "execute_result"
    }
   ],
   "source": [
    "optimal_F1(scheme_1_300_100)"
   ]
  },
  {
   "cell_type": "code",
   "execution_count": 6,
   "metadata": {},
   "outputs": [
    {
     "data": {
      "text/plain": [
       "0.8851959562387481"
      ]
     },
     "execution_count": 6,
     "metadata": {},
     "output_type": "execute_result"
    }
   ],
   "source": [
    "optimal_F1(scheme_1_300_200)"
   ]
  },
  {
   "cell_type": "code",
   "execution_count": 7,
   "metadata": {},
   "outputs": [
    {
     "data": {
      "text/plain": [
       "0.8851057964022331"
      ]
     },
     "execution_count": 7,
     "metadata": {},
     "output_type": "execute_result"
    }
   ],
   "source": [
    "optimal_F1(scheme_1_300_300)"
   ]
  },
  {
   "cell_type": "code",
   "execution_count": 8,
   "metadata": {},
   "outputs": [
    {
     "data": {
      "text/plain": [
       "0.8788755684167012"
      ]
     },
     "execution_count": 8,
     "metadata": {},
     "output_type": "execute_result"
    }
   ],
   "source": [
    "optimal_F1(scheme_2_300_100)"
   ]
  },
  {
   "cell_type": "code",
   "execution_count": 9,
   "metadata": {},
   "outputs": [
    {
     "data": {
      "text/plain": [
       "0.8799557949993093"
      ]
     },
     "execution_count": 9,
     "metadata": {},
     "output_type": "execute_result"
    }
   ],
   "source": [
    "optimal_F1(scheme_2_300_200)"
   ]
  },
  {
   "cell_type": "code",
   "execution_count": 10,
   "metadata": {},
   "outputs": [
    {
     "data": {
      "text/plain": [
       "0.8813907330093765"
      ]
     },
     "execution_count": 10,
     "metadata": {},
     "output_type": "execute_result"
    }
   ],
   "source": [
    "optimal_F1(scheme_2_300_300)"
   ]
  },
  {
   "cell_type": "code",
   "execution_count": 11,
   "metadata": {},
   "outputs": [
    {
     "data": {
      "text/plain": [
       "0.8764681497858229"
      ]
     },
     "execution_count": 11,
     "metadata": {},
     "output_type": "execute_result"
    }
   ],
   "source": [
    "optimal_F1(scheme_3_300_0)"
   ]
  }
 ],
 "metadata": {
  "kernelspec": {
   "display_name": "Python 3",
   "language": "python",
   "name": "python3"
  },
  "language_info": {
   "codemirror_mode": {
    "name": "ipython",
    "version": 3
   },
   "file_extension": ".py",
   "mimetype": "text/x-python",
   "name": "python",
   "nbconvert_exporter": "python",
   "pygments_lexer": "ipython3",
   "version": "3.8.5"
  }
 },
 "nbformat": 4,
 "nbformat_minor": 4
}
